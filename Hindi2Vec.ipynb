{
 "cells": [
  {
   "cell_type": "code",
   "execution_count": 25,
   "metadata": {},
   "outputs": [],
   "source": [
    "import json\n",
    "import re\n",
    "import os\n",
    "import glob\n",
    "import string\n",
    "from gensim.models import Word2Vec\n",
    "\n",
    "from tqdm import tqdm"
   ]
  },
  {
   "cell_type": "code",
   "execution_count": 26,
   "metadata": {},
   "outputs": [],
   "source": [
    "files=glob.glob(os.path.join('data', 'wikidata', '*', '*'))\n"
   ]
  },
  {
   "cell_type": "code",
   "execution_count": 27,
   "metadata": {},
   "outputs": [
    {
     "name": "stdout",
     "output_type": "stream",
     "text": [
      "132818\n"
     ]
    }
   ],
   "source": [
    "texts=[]\n",
    "for file in files:\n",
    "    with open(file, 'r') as f:\n",
    "        for line in f:\n",
    "            texts.append(json.loads(line)['text'])\n",
    "\n",
    "print(len(texts))"
   ]
  },
  {
   "cell_type": "code",
   "execution_count": 28,
   "metadata": {},
   "outputs": [],
   "source": [
    "def replace_strings(texts, replace):\n",
    "    new_texts=[]\n",
    "    \n",
    "    emoji_pattern = re.compile(\"[\"\n",
    "                           u\"\\U0001F600-\\U0001F64F\"  # emoticons\n",
    "                           u\"\\U0001F300-\\U0001F5FF\"  # symbols & pictographs\n",
    "                           u\"\\U0001F680-\\U0001F6FF\"  # transport & map symbols\n",
    "                           u\"\\U0001F1E0-\\U0001F1FF\"  # flags (iOS)\n",
    "                           u\"\\U00002702-\\U000027B0\"\n",
    "                           u\"\\U000024C2-\\U0001F251\"\n",
    "                           \"]+\", flags=re.UNICODE)\n",
    "    english_pattern=re.compile('[a-zA-Z0-9]+', flags=re.I)\n",
    "    bengali_pattern=re.compile('[०-९]+', flags=re.I)\n",
    "    \n",
    "    for text in tqdm(texts):\n",
    "        for r in replace:\n",
    "            text=text.replace(r[0], r[1])\n",
    "        text=emoji_pattern.sub(r'', text)\n",
    "        text=english_pattern.sub(r'', text)\n",
    "        text=bengali_pattern.sub(r'', text)\n",
    "        text=re.sub(r'\\s+', ' ', text).strip()\n",
    "        new_texts.append(text)\n",
    "\n",
    "    return new_texts\n"
   ]
  },
  {
   "cell_type": "code",
   "execution_count": null,
   "metadata": {},
   "outputs": [],
   "source": []
  },
  {
   "cell_type": "code",
   "execution_count": 29,
   "metadata": {},
   "outputs": [
    {
     "name": "stderr",
     "output_type": "stream",
     "text": [
      "100%|██████████| 132818/132818 [02:06<00:00, 1052.35it/s]\n",
      "100%|██████████| 132818/132818 [00:32<00:00, 4145.36it/s]\n"
     ]
    }
   ],
   "source": [
    "replace=[('\\u200c', ' '),\n",
    "         ('\\u200b', ' '),\n",
    "        ('\\n', ' '),\n",
    "        ('\\n5', ' '),\n",
    "        ]\n",
    "\n",
    "texts=remove_punc(texts)\n",
    "texts=replace_strings(texts, replace)"
   ]
  },
  {
   "cell_type": "code",
   "execution_count": 31,
   "metadata": {},
   "outputs": [
    {
     "name": "stdout",
     "output_type": "stream",
     "text": [
      "[['नैदानिक', 'परीक्षा', 'शिक्षा', 'व्यक्ति', 'में', 'किसी', 'प्रकार', 'की', 'असामान्यता', 'अयोग्यता', 'अक्षमता', 'व्यतिक्रम', 'अथवा', 'व्याधि', 'के', 'स्वरूप', 'की', 'ठीक', 'पहचान', 'अर्थात्', 'निदान', 'डायग्नासिस', 'नैदानिक', 'परीक्षा', 'कहलाती', 'है'], ['यह', 'मनोशारीरिक', 'अव्यवस्थाओं', 'की', 'ज्ञात', 'लक्षणावली', 'के', 'आधार', 'पर', 'करने', 'के', 'लिए', 'विज्ञों', 'द्वारा', 'सुस्थिर', 'की', 'गई', 'जाँच', 'की', 'विशिष्ट', 'प्रणाली', 'है'], ['नैदानिक', 'परीक्षाओं', 'की', 'अब', 'हजारों', 'तरह', 'की', 'प्रश्नावलियाँ', 'एवं', 'पद्धतियाँ', 'चल', 'पड़ी', 'है', 'जिनमें', 'व्यक्ति', 'के', 'मनोजगत्', 'की', 'सूक्ष्मतल', 'विकृति', 'की', 'पहचान', 'प्रायोगिक', 'धरातल', 'पर', 'कर', 'ली', 'जाती', 'है'], ['ये', 'परीक्षाएँ', 'व्यक्तिगत', 'रूप', 'में', 'भी', 'होती', 'हैं', 'और', 'समूहगत', 'भी'], ['आजकल', 'समूह', 'परीक्षाएँ', 'ग्रूप', 'टेस्ट्स', 'शिक्षण', 'संस्थाओं', 'के', 'माध्यम', 'से', 'तथा', 'सैनिक', 'विभाग', 'और', 'कार्यालयीय', 'कर्मचारियों', 'की', 'सहायता', 'से', 'काफी', 'मात्रा', 'में', 'संपन्न', 'की', 'जा', 'रही', 'हैं'], ['रोगादि', 'की', 'प्रारंभिक', 'पहचान', 'में', 'और', 'व्यक्ति', 'की', 'विशिष्ट', 'कठिनाई', 'अथवा', 'गलती', 'करने', 'के', 'उसके', 'बद्धमूल', 'ढ़र्रे', 'की', 'सही', 'पकड़', 'में', 'ऐसी', 'परीक्षाओं', 'से', 'बड़ी', 'मदद', 'मिलती', 'है'], ['मनोविज्ञान', 'में', 'इनका', 'निर्धारण', 'सामान्य', 'शिक्षा', 'व्यक्तित्व', 'मूल्यांकन', 'अथवा', 'मनोरोग', 'की', 'विशेषावस्थाओं', 'की', 'दृष्टि', 'से', 'किया', 'गया', 'है'], ['शिक्षा', 'मनोविज्ञान', 'के', 'क्षेत्र', 'में', 'इनसे', 'छात्र', 'की', 'किसी', 'विषय', 'अथवा', 'पाठ', 'संबंधी', 'खास', 'कमजोरी', 'ढूँढ़', 'निकाली', 'जाती', 'है', 'और', 'इसी', 'के', 'सहारे', 'तदर्थ', 'एक', 'औपचारिक', 'धरातल', 'भी', 'तैयार', 'किया', 'जाता', 'है'], ['पूर्ण', 'निदान', 'और', 'भी', 'कई', 'संबद्ध', 'तथ्यों', 'पर', 'आधृत', 'होता', 'है', 'किंतु', 'ये', 'परीक्षाएँ', 'नैदानिक', 'उपलब्धि', 'में', 'अच्छे', 'खासे', 'हथियार', 'का', 'काम', 'करती', 'हैं'], ['कोई', 'सधा', 'सधाया', 'ढंग', 'आले', 'द्वारा', 'हृदयगति', 'जाँचने', 'की', 'भाँति', 'इनमें', 'नहीं', 'होता', 'कि', 'व्यक्ति', 'अपने', 'से', 'कुछ', 'भी', 'न', 'करे']]\n"
     ]
    }
   ],
   "source": [
    "body=[article.split('।') for article in texts]\n",
    "body=[item for sublist in body for item in sublist]\n",
    "body=[item.strip() for item in body if len(item.split())>1]\n",
    "\n",
    "body=[item.split() for item in body]\n",
    "\n",
    "print(body[:10])"
   ]
  },
  {
   "cell_type": "code",
   "execution_count": 32,
   "metadata": {},
   "outputs": [],
   "source": [
    "model = Word2Vec(body, size=200, window=5, min_count=10)"
   ]
  },
  {
   "cell_type": "code",
   "execution_count": 33,
   "metadata": {},
   "outputs": [
    {
     "name": "stdout",
     "output_type": "stream",
     "text": [
      "What are the words most similar to beautiful\n"
     ]
    },
    {
     "data": {
      "text/plain": [
       "[('सुन्दर', 0.8623796701431274),\n",
       " ('मनमोहक', 0.7837326526641846),\n",
       " ('मनोरम', 0.773344874382019),\n",
       " ('आकर्षक', 0.7708183526992798),\n",
       " ('खूबसूरत', 0.7240737676620483)]"
      ]
     },
     "execution_count": 33,
     "metadata": {},
     "output_type": "execute_result"
    }
   ],
   "source": [
    "print(\"What are the words most similar to beautiful\")\n",
    "model.wv.most_similar('सुंदर', topn=5)"
   ]
  },
  {
   "cell_type": "code",
   "execution_count": 34,
   "metadata": {},
   "outputs": [
    {
     "name": "stdout",
     "output_type": "stream",
     "text": [
      "What is king - man + woman =?\n"
     ]
    },
    {
     "data": {
      "text/plain": [
       "[('नरेशों', 0.5417574048042297),\n",
       " ('नरेश', 0.5336947441101074),\n",
       " ('चोल', 0.5314998626708984),\n",
       " ('मिथिला', 0.5177757143974304),\n",
       " ('महारानी', 0.5176520347595215)]"
      ]
     },
     "execution_count": 34,
     "metadata": {},
     "output_type": "execute_result"
    }
   ],
   "source": [
    "print(\"What is king - man + woman =?\")\n",
    "model.wv.most_similar(positive=['राजा', 'महिला'], negative=['आदमी'], topn=5)\n"
   ]
  },
  {
   "cell_type": "code",
   "execution_count": 35,
   "metadata": {},
   "outputs": [
    {
     "name": "stdout",
     "output_type": "stream",
     "text": [
      "What is Father + Girl - Boy =?\n"
     ]
    },
    {
     "data": {
      "text/plain": [
       "[('मातापिता', 0.6321265697479248),\n",
       " ('पति', 0.6085711717605591),\n",
       " ('दादी', 0.5852773785591125),\n",
       " ('विधवा', 0.574411928653717),\n",
       " ('भतीजी', 0.5679188966751099)]"
      ]
     },
     "execution_count": 35,
     "metadata": {},
     "output_type": "execute_result"
    }
   ],
   "source": [
    "print(\"What is Father + Girl - Boy =?\")\n",
    "model.wv.most_similar(positive=['पिता', 'लड़की'], negative=['लड़का'], topn=5)"
   ]
  },
  {
   "cell_type": "code",
   "execution_count": null,
   "metadata": {},
   "outputs": [],
   "source": [
    "print(\"Find the odd one out\")\n",
    "model.wv.doesnt_match(\"\".split())"
   ]
  }
 ],
 "metadata": {
  "kernelspec": {
   "display_name": "Python 3",
   "language": "python",
   "name": "python3"
  },
  "language_info": {
   "codemirror_mode": {
    "name": "ipython",
    "version": 3
   },
   "file_extension": ".py",
   "mimetype": "text/x-python",
   "name": "python",
   "nbconvert_exporter": "python",
   "pygments_lexer": "ipython3",
   "version": "3.6.4"
  }
 },
 "nbformat": 4,
 "nbformat_minor": 2
}
